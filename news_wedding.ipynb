{
  "nbformat": 4,
  "nbformat_minor": 0,
  "metadata": {
    "colab": {
      "name": "news_wedding.ipynb",
      "provenance": [],
      "mount_file_id": "1RlSekabuhvq118JuB2CY1Cq0oqmWbHaO",
      "authorship_tag": "ABX9TyNKMj7B6BqEefCAL7FC4CFG",
      "include_colab_link": true
    },
    "kernelspec": {
      "name": "python3",
      "display_name": "Python 3"
    },
    "language_info": {
      "name": "python"
    }
  },
  "cells": [
    {
      "cell_type": "markdown",
      "metadata": {
        "id": "view-in-github",
        "colab_type": "text"
      },
      "source": [
        "<a href=\"https://colab.research.google.com/github/Himanshuengg/Training_Own_Wedding_word2vec/blob/main/news_wedding.ipynb\" target=\"_parent\"><img src=\"https://colab.research.google.com/assets/colab-badge.svg\" alt=\"Open In Colab\"/></a>"
      ]
    },
    {
      "cell_type": "code",
      "source": [
        "#Import Libraries\n",
        "import pandas as pd\n",
        "import numpy as np\n",
        "import string\n",
        "import nltk\n",
        "from nltk.tokenize import RegexpTokenizer\n",
        "from nltk.corpus import stopwords\n",
        "nltk.download('stopwords')"
      ],
      "metadata": {
        "id": "rC4o0Go9xkR7",
        "colab": {
          "base_uri": "https://localhost:8080/"
        },
        "outputId": "1b9ff728-8995-4e02-b1db-137d33726d16"
      },
      "execution_count": null,
      "outputs": [
        {
          "output_type": "stream",
          "name": "stdout",
          "text": [
            "[nltk_data] Downloading package stopwords to /root/nltk_data...\n",
            "[nltk_data]   Unzipping corpora/stopwords.zip.\n"
          ]
        },
        {
          "output_type": "execute_result",
          "data": {
            "text/plain": [
              "True"
            ]
          },
          "metadata": {},
          "execution_count": 1
        }
      ]
    },
    {
      "cell_type": "code",
      "source": [
        "\n",
        "data = pd.DataFrame()\n",
        "data = pd.read_excel('/content/drive/MyDrive/data/wedding_news.xlsx')\n",
        "data.head(10)"
      ],
      "metadata": {
        "colab": {
          "base_uri": "https://localhost:8080/",
          "height": 466
        },
        "id": "_MQguyQa_nSr",
        "outputId": "f4e17824-d59c-460d-87b9-253bcca40811"
      },
      "execution_count": null,
      "outputs": [
        {
          "output_type": "execute_result",
          "data": {
            "text/html": [
              "\n",
              "  <div id=\"df-5acb79cb-74e1-47ec-87ac-178ad6c373ab\">\n",
              "    <div class=\"colab-df-container\">\n",
              "      <div>\n",
              "<style scoped>\n",
              "    .dataframe tbody tr th:only-of-type {\n",
              "        vertical-align: middle;\n",
              "    }\n",
              "\n",
              "    .dataframe tbody tr th {\n",
              "        vertical-align: top;\n",
              "    }\n",
              "\n",
              "    .dataframe thead th {\n",
              "        text-align: right;\n",
              "    }\n",
              "</style>\n",
              "<table border=\"1\" class=\"dataframe\">\n",
              "  <thead>\n",
              "    <tr style=\"text-align: right;\">\n",
              "      <th></th>\n",
              "      <th>news</th>\n",
              "    </tr>\n",
              "  </thead>\n",
              "  <tbody>\n",
              "    <tr>\n",
              "      <th>0</th>\n",
              "      <td>Deepika Padukone and Ranveer Singh got married...</td>\n",
              "    </tr>\n",
              "    <tr>\n",
              "      <th>1</th>\n",
              "      <td>Priyanka and Nick tied the knot in two ceremon...</td>\n",
              "    </tr>\n",
              "    <tr>\n",
              "      <th>2</th>\n",
              "      <td>Anushka Sharma and Virat Kohli had a dreamy we...</td>\n",
              "    </tr>\n",
              "    <tr>\n",
              "      <th>3</th>\n",
              "      <td>Kapil and Ginni, who have been together for se...</td>\n",
              "    </tr>\n",
              "    <tr>\n",
              "      <th>4</th>\n",
              "      <td>katrina Kaif and Vicky Kaushal got married on ...</td>\n",
              "    </tr>\n",
              "    <tr>\n",
              "      <th>5</th>\n",
              "      <td>Rajkummar and Patralekhaa got engaged on Satur...</td>\n",
              "    </tr>\n",
              "    <tr>\n",
              "      <th>6</th>\n",
              "      <td>It’s fitting that Bollywood’s ‘king of romance...</td>\n",
              "    </tr>\n",
              "    <tr>\n",
              "      <th>7</th>\n",
              "      <td>Akshay Kumar's wife Twinkle Khanna is celebrat...</td>\n",
              "    </tr>\n",
              "    <tr>\n",
              "      <th>8</th>\n",
              "      <td>The pair of Hardik Pandya and his wife Natasa ...</td>\n",
              "    </tr>\n",
              "  </tbody>\n",
              "</table>\n",
              "</div>\n",
              "      <button class=\"colab-df-convert\" onclick=\"convertToInteractive('df-5acb79cb-74e1-47ec-87ac-178ad6c373ab')\"\n",
              "              title=\"Convert this dataframe to an interactive table.\"\n",
              "              style=\"display:none;\">\n",
              "        \n",
              "  <svg xmlns=\"http://www.w3.org/2000/svg\" height=\"24px\"viewBox=\"0 0 24 24\"\n",
              "       width=\"24px\">\n",
              "    <path d=\"M0 0h24v24H0V0z\" fill=\"none\"/>\n",
              "    <path d=\"M18.56 5.44l.94 2.06.94-2.06 2.06-.94-2.06-.94-.94-2.06-.94 2.06-2.06.94zm-11 1L8.5 8.5l.94-2.06 2.06-.94-2.06-.94L8.5 2.5l-.94 2.06-2.06.94zm10 10l.94 2.06.94-2.06 2.06-.94-2.06-.94-.94-2.06-.94 2.06-2.06.94z\"/><path d=\"M17.41 7.96l-1.37-1.37c-.4-.4-.92-.59-1.43-.59-.52 0-1.04.2-1.43.59L10.3 9.45l-7.72 7.72c-.78.78-.78 2.05 0 2.83L4 21.41c.39.39.9.59 1.41.59.51 0 1.02-.2 1.41-.59l7.78-7.78 2.81-2.81c.8-.78.8-2.07 0-2.86zM5.41 20L4 18.59l7.72-7.72 1.47 1.35L5.41 20z\"/>\n",
              "  </svg>\n",
              "      </button>\n",
              "      \n",
              "  <style>\n",
              "    .colab-df-container {\n",
              "      display:flex;\n",
              "      flex-wrap:wrap;\n",
              "      gap: 12px;\n",
              "    }\n",
              "\n",
              "    .colab-df-convert {\n",
              "      background-color: #E8F0FE;\n",
              "      border: none;\n",
              "      border-radius: 50%;\n",
              "      cursor: pointer;\n",
              "      display: none;\n",
              "      fill: #1967D2;\n",
              "      height: 32px;\n",
              "      padding: 0 0 0 0;\n",
              "      width: 32px;\n",
              "    }\n",
              "\n",
              "    .colab-df-convert:hover {\n",
              "      background-color: #E2EBFA;\n",
              "      box-shadow: 0px 1px 2px rgba(60, 64, 67, 0.3), 0px 1px 3px 1px rgba(60, 64, 67, 0.15);\n",
              "      fill: #174EA6;\n",
              "    }\n",
              "\n",
              "    [theme=dark] .colab-df-convert {\n",
              "      background-color: #3B4455;\n",
              "      fill: #D2E3FC;\n",
              "    }\n",
              "\n",
              "    [theme=dark] .colab-df-convert:hover {\n",
              "      background-color: #434B5C;\n",
              "      box-shadow: 0px 1px 3px 1px rgba(0, 0, 0, 0.15);\n",
              "      filter: drop-shadow(0px 1px 2px rgba(0, 0, 0, 0.3));\n",
              "      fill: #FFFFFF;\n",
              "    }\n",
              "  </style>\n",
              "\n",
              "      <script>\n",
              "        const buttonEl =\n",
              "          document.querySelector('#df-5acb79cb-74e1-47ec-87ac-178ad6c373ab button.colab-df-convert');\n",
              "        buttonEl.style.display =\n",
              "          google.colab.kernel.accessAllowed ? 'block' : 'none';\n",
              "\n",
              "        async function convertToInteractive(key) {\n",
              "          const element = document.querySelector('#df-5acb79cb-74e1-47ec-87ac-178ad6c373ab');\n",
              "          const dataTable =\n",
              "            await google.colab.kernel.invokeFunction('convertToInteractive',\n",
              "                                                     [key], {});\n",
              "          if (!dataTable) return;\n",
              "\n",
              "          const docLinkHtml = 'Like what you see? Visit the ' +\n",
              "            '<a target=\"_blank\" href=https://colab.research.google.com/notebooks/data_table.ipynb>data table notebook</a>'\n",
              "            + ' to learn more about interactive tables.';\n",
              "          element.innerHTML = '';\n",
              "          dataTable['output_type'] = 'display_data';\n",
              "          await google.colab.output.renderOutput(dataTable, element);\n",
              "          const docLink = document.createElement('div');\n",
              "          docLink.innerHTML = docLinkHtml;\n",
              "          element.appendChild(docLink);\n",
              "        }\n",
              "      </script>\n",
              "    </div>\n",
              "  </div>\n",
              "  "
            ],
            "text/plain": [
              "                                                news\n",
              "0  Deepika Padukone and Ranveer Singh got married...\n",
              "1  Priyanka and Nick tied the knot in two ceremon...\n",
              "2  Anushka Sharma and Virat Kohli had a dreamy we...\n",
              "3  Kapil and Ginni, who have been together for se...\n",
              "4  katrina Kaif and Vicky Kaushal got married on ...\n",
              "5  Rajkummar and Patralekhaa got engaged on Satur...\n",
              "6  It’s fitting that Bollywood’s ‘king of romance...\n",
              "7  Akshay Kumar's wife Twinkle Khanna is celebrat...\n",
              "8  The pair of Hardik Pandya and his wife Natasa ..."
            ]
          },
          "metadata": {},
          "execution_count": 5
        }
      ]
    },
    {
      "cell_type": "code",
      "source": [
        "#create empty list\n",
        "data_list = list()\n",
        "\n",
        "indv_lines = data['news'].values.tolist()  #Convert Pandas DataFrame into a List\n",
        "for line in indv_lines:\n",
        "\n",
        "\t#create word tokens as well as remove puntuation in one go\n",
        "  \n",
        "\trem_tok_punc = RegexpTokenizer(r'\\w+') #A ``RegexpTokenizer`` splits a string into substrings using a regular expression.\n",
        "\n",
        "\ttokens = rem_tok_punc.tokenize(line)\n",
        "\n",
        "\t#convert the words to lower case\n",
        "\twords = [w.lower() for w in tokens]\n",
        "\n",
        "\t#Invoke all the english stopwords\n",
        "\tstop_word_list = set(stopwords.words('english'))\n",
        "\n",
        "\t#Remove stop words\n",
        "\twords = [w for w in words if not w in stop_word_list]\n",
        "\n",
        "\t#Append words in the data_list list.\n",
        "\tdata_list.append(words)\n",
        "len(data_list)"
      ],
      "metadata": {
        "colab": {
          "base_uri": "https://localhost:8080/"
        },
        "id": "ZPQGJ78UAyVl",
        "outputId": "b70b18a7-3f38-494d-9e5c-0a274b5d65d9"
      },
      "execution_count": null,
      "outputs": [
        {
          "output_type": "execute_result",
          "data": {
            "text/plain": [
              "9"
            ]
          },
          "metadata": {},
          "execution_count": 6
        }
      ]
    },
    {
      "cell_type": "code",
      "source": [
        "data_list"
      ],
      "metadata": {
        "colab": {
          "base_uri": "https://localhost:8080/"
        },
        "id": "xH86B3K3BZoR",
        "outputId": "6a9272b6-b846-4568-957c-1f1a62c846fc"
      },
      "execution_count": null,
      "outputs": [
        {
          "output_type": "execute_result",
          "data": {
            "text/plain": [
              "[['deepika',\n",
              "  'padukone',\n",
              "  'ranveer',\n",
              "  'singh',\n",
              "  'got',\n",
              "  'married',\n",
              "  'italy',\n",
              "  'november',\n",
              "  '14th',\n",
              "  '15th',\n",
              "  'year',\n",
              "  'couple',\n",
              "  'hosted',\n",
              "  'three',\n",
              "  'grand',\n",
              "  'receptions',\n",
              "  'bengaluru',\n",
              "  'mumbai',\n",
              "  'recently',\n",
              "  'interview',\n",
              "  'deepika',\n",
              "  'indulged',\n",
              "  'candid',\n",
              "  'conversation',\n",
              "  'revealed',\n",
              "  'beautiful',\n",
              "  'thing',\n",
              "  'life',\n",
              "  'marriage'],\n",
              " ['priyanka',\n",
              "  'nick',\n",
              "  'tied',\n",
              "  'knot',\n",
              "  'two',\n",
              "  'ceremonies',\n",
              "  'home',\n",
              "  'country',\n",
              "  'india',\n",
              "  'umaid',\n",
              "  'bhawan',\n",
              "  'palace',\n",
              "  'jodhpur',\n",
              "  'rajasthan',\n",
              "  'december',\n",
              "  '2018'],\n",
              " ['anushka',\n",
              "  'sharma',\n",
              "  'virat',\n",
              "  'kohli',\n",
              "  'dreamy',\n",
              "  'wedding',\n",
              "  'italy',\n",
              "  'december',\n",
              "  '11',\n",
              "  '2017',\n",
              "  'couple',\n",
              "  'kept',\n",
              "  'details',\n",
              "  'wedding',\n",
              "  'secret',\n",
              "  'common',\n",
              "  'trend',\n",
              "  'seen',\n",
              "  'amongst',\n",
              "  'celebs'],\n",
              " ['kapil',\n",
              "  'ginni',\n",
              "  'together',\n",
              "  'several',\n",
              "  'years',\n",
              "  'tied',\n",
              "  'knot',\n",
              "  'jalandhar',\n",
              "  'december',\n",
              "  '12',\n",
              "  'day',\n",
              "  'isha',\n",
              "  'ambani',\n",
              "  'anand',\n",
              "  'piramal',\n",
              "  'wedding'],\n",
              " ['katrina',\n",
              "  'kaif',\n",
              "  'vicky',\n",
              "  'kaushal',\n",
              "  'got',\n",
              "  'married',\n",
              "  'december',\n",
              "  '9',\n",
              "  '2021',\n",
              "  'wedding',\n",
              "  'took',\n",
              "  'place',\n",
              "  'royal',\n",
              "  'hotel',\n",
              "  'six',\n",
              "  'senses',\n",
              "  'fort',\n",
              "  'barwara',\n",
              "  'sawai',\n",
              "  'madhopur',\n",
              "  'katrina',\n",
              "  'vicky',\n",
              "  'wedding',\n",
              "  'intimate',\n",
              "  'affair',\n",
              "  'family',\n",
              "  'close',\n",
              "  'friends',\n",
              "  'couple',\n",
              "  'attendance',\n",
              "  'vicky',\n",
              "  'brother',\n",
              "  'sunny',\n",
              "  'kaushal',\n",
              "  'attended',\n",
              "  'wedding',\n",
              "  'rumoured',\n",
              "  'anymore',\n",
              "  'girlfriend',\n",
              "  'sharvari',\n",
              "  'wagh'],\n",
              " ['rajkummar',\n",
              "  'patralekhaa',\n",
              "  'got',\n",
              "  'engaged',\n",
              "  'saturday',\n",
              "  'oberoi',\n",
              "  'sukhvilas',\n",
              "  'spa',\n",
              "  'resort',\n",
              "  'new',\n",
              "  'chandigarh',\n",
              "  'relationship',\n",
              "  'years',\n",
              "  'appeared',\n",
              "  '2014',\n",
              "  'hansal',\n",
              "  'mehta',\n",
              "  'film',\n",
              "  'citylights',\n",
              "  'also',\n",
              "  'featured',\n",
              "  'web',\n",
              "  'show',\n",
              "  'bose',\n",
              "  'dead',\n",
              "  'alive'],\n",
              " ['fitting',\n",
              "  'bollywood',\n",
              "  'king',\n",
              "  'romance',\n",
              "  'shah',\n",
              "  'rukh',\n",
              "  'khan',\n",
              "  'love',\n",
              "  'story',\n",
              "  'gauri',\n",
              "  'nothing',\n",
              "  'less',\n",
              "  'elaborate',\n",
              "  'yash',\n",
              "  'chopra',\n",
              "  'production',\n",
              "  'evergreen',\n",
              "  'couple',\n",
              "  'met',\n",
              "  'common',\n",
              "  'friend',\n",
              "  'party',\n",
              "  '1984',\n",
              "  '18',\n",
              "  'years',\n",
              "  'old',\n",
              "  'saw',\n",
              "  'gauri',\n",
              "  'dancing',\n",
              "  'another',\n",
              "  'man',\n",
              "  'ask',\n",
              "  'dance',\n",
              "  'first',\n",
              "  'couple',\n",
              "  'tied',\n",
              "  'knot',\n",
              "  'october',\n",
              "  '25',\n",
              "  '1991',\n",
              "  'married',\n",
              "  '30',\n",
              "  'years'],\n",
              " ['akshay',\n",
              "  'kumar',\n",
              "  'wife',\n",
              "  'twinkle',\n",
              "  'khanna',\n",
              "  'celebrating',\n",
              "  'birthday',\n",
              "  'today',\n",
              "  'december',\n",
              "  '29',\n",
              "  'couple',\n",
              "  'recently',\n",
              "  'jetted',\n",
              "  'maldives',\n",
              "  'celebrate',\n",
              "  'special',\n",
              "  'day',\n",
              "  'birthday',\n",
              "  'twinkle',\n",
              "  'received',\n",
              "  'special',\n",
              "  'wish',\n",
              "  'hubby',\n",
              "  'akshay',\n",
              "  'actor',\n",
              "  'took',\n",
              "  'social',\n",
              "  'media',\n",
              "  'share',\n",
              "  'adorable',\n",
              "  'picture',\n",
              "  'beautiful',\n",
              "  'island',\n",
              "  'nation',\n",
              "  'also',\n",
              "  'penned',\n",
              "  'poetic',\n",
              "  'birthday',\n",
              "  'note'],\n",
              " ['pair',\n",
              "  'hardik',\n",
              "  'pandya',\n",
              "  'wife',\n",
              "  'natasa',\n",
              "  'stankovic',\n",
              "  'news',\n",
              "  'multiple',\n",
              "  'times',\n",
              "  'last',\n",
              "  'years',\n",
              "  'however',\n",
              "  'duo',\n",
              "  'acquired',\n",
              "  'huge',\n",
              "  'following',\n",
              "  'ever',\n",
              "  'since',\n",
              "  'announced',\n",
              "  'marriage',\n",
              "  'lockdown',\n",
              "  '2020',\n",
              "  'natasa',\n",
              "  'spotted',\n",
              "  'times',\n",
              "  'hardik',\n",
              "  'marriage',\n",
              "  'widely',\n",
              "  'recognized',\n",
              "  'among',\n",
              "  'indian',\n",
              "  'fans',\n",
              "  'hardik',\n",
              "  'better',\n",
              "  'half']]"
            ]
          },
          "metadata": {},
          "execution_count": 7
        }
      ]
    },
    {
      "cell_type": "code",
      "source": [
        "#Train a Word2Vec model using Gensim\n",
        "import gensim\n",
        "Embedding_Dim = 100\n",
        "#train word2vec model\n",
        "model = gensim.models.Word2Vec(sentences = data_list, size = Embedding_Dim, workers = 4, min_count = 1)\n",
        "#Vocabulary size\n",
        "words = list(model.wv.vocab)\n",
        "print('Here is the Vocabulary Size.. %d' % len(words))"
      ],
      "metadata": {
        "colab": {
          "base_uri": "https://localhost:8080/"
        },
        "id": "cDhKVmK8BcQC",
        "outputId": "25249088-0662-4be6-8858-3b82913c544a"
      },
      "execution_count": null,
      "outputs": [
        {
          "output_type": "stream",
          "name": "stdout",
          "text": [
            "Here is the Vocabulary Size.. 214\n"
          ]
        }
      ]
    },
    {
      "cell_type": "code",
      "source": [
        "#Finding similar words\n",
        "model.wv.most_similar('wedding')"
      ],
      "metadata": {
        "colab": {
          "base_uri": "https://localhost:8080/"
        },
        "id": "ISuEJTQQBjCw",
        "outputId": "4f0ae58f-7e6f-434c-dccc-db68b9c89ecd"
      },
      "execution_count": null,
      "outputs": [
        {
          "output_type": "execute_result",
          "data": {
            "text/plain": [
              "[('anushka', 0.3151897192001343),\n",
              " ('secret', 0.2333766669034958),\n",
              " ('anand', 0.21239152550697327),\n",
              " ('share', 0.20081841945648193),\n",
              " ('six', 0.1905890703201294),\n",
              " ('times', 0.17273551225662231),\n",
              " ('saw', 0.16657444834709167),\n",
              " ('barwara', 0.1657576709985733),\n",
              " ('october', 0.15834689140319824),\n",
              " ('kaif', 0.15772028267383575)]"
            ]
          },
          "metadata": {},
          "execution_count": 9
        }
      ]
    },
    {
      "cell_type": "code",
      "source": [
        "model.wv.most_similar('virat')"
      ],
      "metadata": {
        "colab": {
          "base_uri": "https://localhost:8080/"
        },
        "id": "roxsTLBUB_XS",
        "outputId": "c20dfad4-5e8e-43e6-8fc0-6ed0cf135b6f"
      },
      "execution_count": null,
      "outputs": [
        {
          "output_type": "execute_result",
          "data": {
            "text/plain": [
              "[('better', 0.25803717970848083),\n",
              " ('1991', 0.23805032670497894),\n",
              " ('bengaluru', 0.22944894433021545),\n",
              " ('anymore', 0.18770620226860046),\n",
              " ('island', 0.18329857289791107),\n",
              " ('today', 0.1827276349067688),\n",
              " ('close', 0.18237626552581787),\n",
              " ('beautiful', 0.1814953237771988),\n",
              " ('dancing', 0.16292782127857208),\n",
              " ('ambani', 0.160853311419487)]"
            ]
          },
          "metadata": {},
          "execution_count": 10
        }
      ]
    },
    {
      "cell_type": "code",
      "source": [
        "words = list(model.wv.vocab)\n",
        "print(words)"
      ],
      "metadata": {
        "colab": {
          "base_uri": "https://localhost:8080/"
        },
        "id": "7L-a_4_vDFOV",
        "outputId": "2af32b47-2d63-46f5-e366-d630155fc362"
      },
      "execution_count": null,
      "outputs": [
        {
          "output_type": "stream",
          "name": "stdout",
          "text": [
            "['deepika', 'padukone', 'ranveer', 'singh', 'got', 'married', 'italy', 'november', '14th', '15th', 'year', 'couple', 'hosted', 'three', 'grand', 'receptions', 'bengaluru', 'mumbai', 'recently', 'interview', 'indulged', 'candid', 'conversation', 'revealed', 'beautiful', 'thing', 'life', 'marriage', 'priyanka', 'nick', 'tied', 'knot', 'two', 'ceremonies', 'home', 'country', 'india', 'umaid', 'bhawan', 'palace', 'jodhpur', 'rajasthan', 'december', '2018', 'anushka', 'sharma', 'virat', 'kohli', 'dreamy', 'wedding', '11', '2017', 'kept', 'details', 'secret', 'common', 'trend', 'seen', 'amongst', 'celebs', 'kapil', 'ginni', 'together', 'several', 'years', 'jalandhar', '12', 'day', 'isha', 'ambani', 'anand', 'piramal', 'katrina', 'kaif', 'vicky', 'kaushal', '9', '2021', 'took', 'place', 'royal', 'hotel', 'six', 'senses', 'fort', 'barwara', 'sawai', 'madhopur', 'intimate', 'affair', 'family', 'close', 'friends', 'attendance', 'brother', 'sunny', 'attended', 'rumoured', 'anymore', 'girlfriend', 'sharvari', 'wagh', 'rajkummar', 'patralekhaa', 'engaged', 'saturday', 'oberoi', 'sukhvilas', 'spa', 'resort', 'new', 'chandigarh', 'relationship', 'appeared', '2014', 'hansal', 'mehta', 'film', 'citylights', 'also', 'featured', 'web', 'show', 'bose', 'dead', 'alive', 'fitting', 'bollywood', 'king', 'romance', 'shah', 'rukh', 'khan', 'love', 'story', 'gauri', 'nothing', 'less', 'elaborate', 'yash', 'chopra', 'production', 'evergreen', 'met', 'friend', 'party', '1984', '18', 'old', 'saw', 'dancing', 'another', 'man', 'ask', 'dance', 'first', 'october', '25', '1991', '30', 'akshay', 'kumar', 'wife', 'twinkle', 'khanna', 'celebrating', 'birthday', 'today', '29', 'jetted', 'maldives', 'celebrate', 'special', 'received', 'wish', 'hubby', 'actor', 'social', 'media', 'share', 'adorable', 'picture', 'island', 'nation', 'penned', 'poetic', 'note', 'pair', 'hardik', 'pandya', 'natasa', 'stankovic', 'news', 'multiple', 'times', 'last', 'however', 'duo', 'acquired', 'huge', 'following', 'ever', 'since', 'announced', 'lockdown', '2020', 'spotted', 'widely', 'recognized', 'among', 'indian', 'fans', 'better', 'half']\n"
          ]
        }
      ]
    },
    {
      "cell_type": "code",
      "source": [
        "print(model[\"deepika\"])\n",
        "print(model[\"deepika\"].shape)"
      ],
      "metadata": {
        "colab": {
          "base_uri": "https://localhost:8080/"
        },
        "id": "DKVrmkNqDYad",
        "outputId": "0cfb12ab-332b-49f7-9159-7f4e8c00cff9"
      },
      "execution_count": null,
      "outputs": [
        {
          "output_type": "stream",
          "name": "stdout",
          "text": [
            "[ 8.52580532e-04  2.46347766e-03  9.62042715e-04  4.31865221e-03\n",
            " -1.31272222e-03 -2.62005278e-03 -1.83817407e-03 -1.33914850e-03\n",
            "  2.30263826e-03  1.52689288e-03  3.15037859e-03  4.29993775e-03\n",
            "  3.53643508e-03 -3.45049798e-03  1.71301339e-03  2.07743468e-03\n",
            "  2.99063697e-03 -1.08047831e-03 -4.18551825e-03  3.59845324e-03\n",
            "  1.79037964e-03  3.54843703e-03  4.87575959e-03  1.40664412e-03\n",
            " -3.88241094e-03 -3.41776962e-04 -2.00344459e-03 -4.89982544e-03\n",
            " -3.46750231e-03  2.62163091e-03  4.21077572e-03 -4.01109690e-03\n",
            "  1.30027358e-04 -1.63921650e-05 -8.54141326e-05  4.91252821e-03\n",
            "  2.42086919e-03  4.98173619e-03 -1.94412551e-03  6.89224747e-04\n",
            "  7.93063431e-04 -3.26277586e-05 -4.78806993e-04  1.27443706e-03\n",
            " -1.18660628e-05  4.41566482e-03 -1.09063846e-03  3.12254066e-03\n",
            "  3.79262201e-04  2.13905005e-03  1.77296938e-03 -3.13889585e-04\n",
            "  2.09209439e-03  9.89262015e-04 -4.28713160e-03  1.91714862e-04\n",
            "  2.81045726e-03 -2.27876776e-03 -3.69296852e-03  3.46977753e-03\n",
            "  4.53115162e-03 -1.53690204e-03 -4.03341698e-03  9.64913866e-04\n",
            " -1.09233020e-03 -3.11030098e-03 -1.05274736e-03  2.49838748e-04\n",
            " -3.86076770e-03 -4.57485765e-03 -3.53715895e-03  2.91808299e-03\n",
            "  3.64601100e-03 -1.17227864e-04  4.24263114e-03  2.70485110e-03\n",
            " -4.60378593e-04  9.47961700e-04 -4.57811262e-03  1.72662293e-03\n",
            "  2.27496377e-03 -2.58609559e-03  2.15629581e-03  2.07342746e-04\n",
            "  1.91429979e-03 -4.86270990e-03  7.74759566e-04  2.38572853e-03\n",
            "  3.43378820e-03 -3.25991353e-03  2.28526513e-03  2.39627156e-03\n",
            " -1.51522772e-03  3.48632131e-03 -1.18805387e-03 -1.69655436e-03\n",
            "  8.31322221e-04  3.04581015e-03 -1.10532879e-03 -1.58716552e-03]\n",
            "(100,)\n"
          ]
        },
        {
          "output_type": "stream",
          "name": "stderr",
          "text": [
            "/usr/local/lib/python3.7/dist-packages/ipykernel_launcher.py:1: DeprecationWarning: Call to deprecated `__getitem__` (Method will be removed in 4.0.0, use self.wv.__getitem__() instead).\n",
            "  \"\"\"Entry point for launching an IPython kernel.\n",
            "/usr/local/lib/python3.7/dist-packages/ipykernel_launcher.py:2: DeprecationWarning: Call to deprecated `__getitem__` (Method will be removed in 4.0.0, use self.wv.__getitem__() instead).\n",
            "  \n"
          ]
        }
      ]
    },
    {
      "cell_type": "code",
      "source": [
        "from sklearn.metrics.pairwise import cosine_similarity\n",
        "\n",
        "\n",
        "def predict_actor(a,b,c,word_vectors):\n",
        "  \"\"\" Accept a triad of words and return d such that a is to b : c is to d\"\"\"\n",
        "\n",
        "  a,b,c = a.lower(),b.lower(),c.lower()\n",
        "  max_similarity= -100\n",
        "\n",
        "  d = None\n",
        "\n",
        "\n",
        "  wa,wb,wc = word_vectors[a], word_vectors[b], word_vectors[c]\n",
        "  options = [\"ranveer\",\"deepika\",\"padukone\", \"singh\", \"nick\", \"virat\", \"priyanka\", \"anushka\", \"ginni\", \"kapil\"]\n",
        "\n",
        "  for w in options:\n",
        "    if w in [a,b,c]:\n",
        "      continue\n",
        "\n",
        "    wv = word_vectors[w]\n",
        "    sin = cosine_similarity([wb-wa],[wv-wc])\n",
        "\n",
        "    if sin > max_similarity:\n",
        "      max_similarity = sin\n",
        "      d = w\n",
        "  return d"
      ],
      "metadata": {
        "id": "53Rf-dlnDyfu"
      },
      "execution_count": null,
      "outputs": []
    },
    {
      "cell_type": "code",
      "source": [
        "triad = (\"nick\",\"priyanka\",\"virat\")\n",
        "predict_actor(*triad, model.wv)"
      ],
      "metadata": {
        "colab": {
          "base_uri": "https://localhost:8080/",
          "height": 35
        },
        "id": "JH6HEwV9IBZs",
        "outputId": "3741a121-3bbc-4c6a-9c55-ba7f79d26311"
      },
      "execution_count": null,
      "outputs": [
        {
          "output_type": "execute_result",
          "data": {
            "application/vnd.google.colaboratory.intrinsic+json": {
              "type": "string"
            },
            "text/plain": [
              "'kapil'"
            ]
          },
          "metadata": {},
          "execution_count": 19
        }
      ]
    }
  ]
}